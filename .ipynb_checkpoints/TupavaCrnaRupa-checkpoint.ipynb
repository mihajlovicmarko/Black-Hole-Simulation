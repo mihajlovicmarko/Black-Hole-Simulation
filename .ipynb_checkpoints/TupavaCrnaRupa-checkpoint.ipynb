{
 "cells": [
  {
   "cell_type": "code",
   "execution_count": 54,
   "id": "507c8563",
   "metadata": {},
   "outputs": [],
   "source": [
    "import numpy as np\n",
    "import matplotlib.pyplot as plt"
   ]
  },
  {
   "cell_type": "code",
   "execution_count": 62,
   "id": "e4be4bb2",
   "metadata": {},
   "outputs": [],
   "source": [
    "x, y, z = 50, 0, 0\n",
    "udaljenost = np.sqrt(x**2 + y **2 + z ** 2)\n",
    "udaljenost1 = np.sqrt(x**2 + y **2 + z ** 2)"
   ]
  },
  {
   "cell_type": "code",
   "execution_count": 49,
   "id": "1878689c",
   "metadata": {},
   "outputs": [],
   "source": [
    "def dSchw(r):\n",
    "    scw = 2 / r ** 2\n",
    "    return scw"
   ]
  },
  {
   "cell_type": "code",
   "execution_count": 50,
   "id": "300b1285",
   "metadata": {},
   "outputs": [],
   "source": [
    "def Schw(r):\n",
    "    scw = 1 - 2 / r\n",
    "    return scw"
   ]
  },
  {
   "cell_type": "code",
   "execution_count": 65,
   "id": "04023011",
   "metadata": {},
   "outputs": [
    {
     "name": "stdout",
     "output_type": "stream",
     "text": [
      "42.25741991232824\n",
      "42.25638304928577\n",
      "42.25331303179171\n",
      "42.24820959416601\n",
      "42.241072294357764\n",
      "42.23190051373605\n",
      "42.220693456796845\n",
      "42.20745015078571\n",
      "42.19216944523606\n",
      "42.17485001142228\n",
      "42.15549034172706\n",
      "42.13408874892256\n",
      "42.110643365363764\n",
      "42.08515214209424\n",
      "42.05761284786223\n",
      "42.028023068046764\n",
      "41.99638020349173\n",
      "41.96268146924735\n",
      "41.9269238932169\n",
      "41.889104314707595\n",
      "41.8492193828837\n",
      "41.807265555120004\n",
      "41.76323909525349\n",
      "41.71713607173186\n",
      "41.668952355655705\n",
      "41.61868361871264\n",
      "41.56632533100024\n",
      "41.511872758736054\n",
      "41.45532096185071\n",
      "41.39666479146192\n",
      "41.335898887225895\n",
      "41.27301767456278\n",
      "41.20801536175254\n",
      "41.14088593689771\n",
      "41.071623164749035\n",
      "41.00022058338924\n",
      "40.926671500771555\n",
      "40.8509689911073\n",
      "40.77310589109854\n",
      "40.69307479600985\n",
      "40.61086805557438\n",
      "40.52647776972796\n",
      "40.439895784165884\n",
      "40.35111368571509\n",
      "40.260122797516004\n",
      "40.16691417400631\n",
      "40.07147859569963\n",
      "39.97380656375074\n",
      "39.87388829429992\n",
      "39.77171371258697\n",
      "39.667272446826\n",
      "39.56055382183133\n",
      "39.45154685238458\n",
      "39.34024023633147\n",
      "39.22662234739772\n",
      "39.11068122771184\n",
      "38.9924045800218\n",
      "38.871779759592954\n",
      "38.74879376577221\n",
      "38.62343323320439\n",
      "38.49568442268436\n",
      "38.36553321162873\n",
      "38.23296508414906\n",
      "38.09796512070839\n",
      "37.960517987340666\n",
      "37.82060792441297\n",
      "37.678218734907205\n",
      "37.53333377219907\n",
      "37.38593592730815\n",
      "37.236007615593316\n",
      "37.08353076286479\n",
      "36.928486790883625\n",
      "36.7708566022162\n",
      "36.6106205644101\n",
      "36.4477584934557\n",
      "36.2822496364946\n",
      "36.11407265373433\n",
      "35.943205599526465\n",
      "35.76962590256032\n",
      "35.59331034512415\n",
      "35.41423504138007\n",
      "35.23237541459637\n",
      "35.047706173277014\n",
      "34.8602012861232\n",
      "34.669833955758214\n",
      "34.476576591140926\n",
      "34.2804007785884\n",
      "34.081277251322604\n",
      "33.879175857448786\n",
      "33.67406552626762\n",
      "33.465914232814576\n",
      "33.254688960512574\n",
      "33.04035566181497\n",
      "32.82287921670632\n",
      "32.602223388917615\n",
      "32.37835077970142\n",
      "32.15122277900061\n",
      "31.92079951382897\n",
      "31.687039793668312\n",
      "31.44990105267035\n"
     ]
    }
   ],
   "source": [
    "dt = 0.01\n",
    "v = 0\n",
    "pos = []\n",
    "pos1 = []\n",
    "acc = []\n",
    "time = []\n",
    "for t in range(int(10000)):\n",
    "    time.append(t*dt)\n",
    "    a = dSchw(udaljenost) * (Schw(udaljenost)) #+ (udaljenost - udaljenost1)  ** 2)\n",
    "    dtPrim = Schw(udaljenost) * dt\n",
    "    v += a * dt\n",
    "    udaljenost -= v * dtPrim\n",
    "    #udaljenost1 = udaljenost\n",
    "    if t % 100 == 0:\n",
    "        print(udaljenost)\n",
    "    pos.append(udaljenost)\n",
    "    \n",
    "    \n",
    "    a = dSchw(udaljenost1) * (Schw(udaljenost1)) #+ (udaljenost - udaljenost1)  ** 2)\n",
    "    dtPrim = Schw(udaljenost1) * dt\n",
    "    v += a * dt\n",
    "    udaljenost1 -= v * dtPrim\n",
    "   # udaljenost1 = udaljenost\n",
    "  #  if t % 100 == 0:\n",
    "  #      print(udaljenost)\n",
    "    pos1.append(udaljenost1)\n"
   ]
  },
  {
   "cell_type": "code",
   "execution_count": 46,
   "id": "e9254a53",
   "metadata": {},
   "outputs": [],
   "source": [
    "udaljenost = 2.000001\n",
    "a = dSchw(udaljenost) * (Schw(udaljenost))"
   ]
  },
  {
   "cell_type": "code",
   "execution_count": 23,
   "id": "fc896d90",
   "metadata": {},
   "outputs": [
    {
     "data": {
      "text/plain": [
       "2.4999962502414436e-07"
      ]
     },
     "execution_count": 23,
     "metadata": {},
     "output_type": "execute_result"
    }
   ],
   "source": [
    "a"
   ]
  },
  {
   "cell_type": "code",
   "execution_count": 17,
   "id": "1ee80778",
   "metadata": {},
   "outputs": [
    {
     "data": {
      "text/plain": [
       "-1.0"
      ]
     },
     "execution_count": 17,
     "metadata": {},
     "output_type": "execute_result"
    }
   ],
   "source": [
    "Schw(udaljenost)"
   ]
  },
  {
   "cell_type": "code",
   "execution_count": 66,
   "id": "5573d568",
   "metadata": {},
   "outputs": [
    {
     "data": {
      "text/plain": [
       "[<matplotlib.lines.Line2D at 0x7f9dc952b310>]"
      ]
     },
     "execution_count": 66,
     "metadata": {},
     "output_type": "execute_result"
    },
    {
     "data": {
      "image/png": "[encoded data removed]",
      "text/plain": [
       "<Figure size 432x288 with 1 Axes>"
      ]
     },
     "metadata": {
      "needs_background": "light"
     },
     "output_type": "display_data"
    }
   ],
   "source": [
    "plt.plot(pos)\n",
    "plt.plot(pos1)\n",
    "\n",
    "#plt.plot(np.multiply(acc, 1000))"
   ]
  },
  {
   "cell_type": "code",
   "execution_count": 73,
   "id": "44f0113f",
   "metadata": {},
   "outputs": [
    {
     "data": {
      "text/plain": [
       "[<matplotlib.lines.Line2D at 0x7f9dec6de020>]"
      ]
     },
     "execution_count": 73,
     "metadata": {},
     "output_type": "execute_result"
    },
    {
     "data": {
      "image/png": "[encoded data removed]",
      "text/plain": [
       "<Figure size 432x288 with 1 Axes>"
      ]
     },
     "metadata": {
      "needs_background": "light"
     },
     "output_type": "display_data"
    }
   ],
   "source": [
    "plt.plot(-np.power(time, 2) / 1000 + 43)  "
   ]
  },
  {
   "cell_type": "code",
   "execution_count": null,
   "id": "efc5f441",
   "metadata": {},
   "outputs": [],
   "source": []
  }
 ],
 "metadata": {
  "kernelspec": {
   "display_name": "Python 3 (ipykernel)",
   "language": "python",
   "name": "python3"
  },
  "language_info": {
   "codemirror_mode": {
    "name": "ipython",
    "version": 3
   },
   "file_extension": ".py",
   "mimetype": "text/x-python",
   "name": "python",
   "nbconvert_exporter": "python",
   "pygments_lexer": "ipython3",
   "version": "3.10.10"
  }
 },
 "nbformat": 4,
 "nbformat_minor": 5
}

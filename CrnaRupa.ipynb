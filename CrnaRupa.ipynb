{
 "cells": [
  {
   "cell_type": "code",
   "execution_count": 1,
   "id": "69488a28",
   "metadata": {},
   "outputs": [],
   "source": [
    "import numpy as np\n",
    "import matplotlib.pyplot as plt"
   ]
  },
  {
   "cell_type": "code",
   "execution_count": 2,
   "id": "4733f8fb",
   "metadata": {},
   "outputs": [],
   "source": [
    "matrica_vremena = np.zeros((100, 100))\n",
    "matrica_prostora = np.zeros((100, 100))"
   ]
  },
  {
   "cell_type": "code",
   "execution_count": 3,
   "id": "c8aff657",
   "metadata": {},
   "outputs": [],
   "source": [
    "for w in range(matrica_vremena.shape[0]):\n",
    "    for ro in range(matrica_vremena.shape[1]):\n",
    "\n",
    "        matrica_vremena[99 - w, ro] = np.round(ro) * np.sinh(np.round(w/ 3)) \n",
    "        #if w % 3 == 0:\n",
    "         #   print(w * ro  / 1000**2)"
   ]
  },
  {
   "cell_type": "code",
   "execution_count": 4,
   "id": "753fc242",
   "metadata": {},
   "outputs": [
    {
     "data": {
      "text/plain": [
       "4.944515159673473e+42"
      ]
     },
     "execution_count": 4,
     "metadata": {},
     "output_type": "execute_result"
    }
   ],
   "source": [
    "np.sinh(w) "
   ]
  },
  {
   "cell_type": "code",
   "execution_count": 5,
   "id": "7525dd38",
   "metadata": {},
   "outputs": [
    {
     "data": {
      "text/plain": [
       "<matplotlib.image.AxesImage at 0x7fc9d78560e0>"
      ]
     },
     "execution_count": 5,
     "metadata": {},
     "output_type": "execute_result"
    },
    {
     "data": {
      "image/png": "[encoded data removed]",
      "text/plain": [
       "<Figure size 432x288 with 1 Axes>"
      ]
     },
     "metadata": {
      "needs_background": "light"
     },
     "output_type": "display_data"
    }
   ],
   "source": [
    "plt.imshow(matrica_vremena)"
   ]
  },
  {
   "cell_type": "code",
   "execution_count": 6,
   "id": "3d2394a1",
   "metadata": {},
   "outputs": [
    {
     "data": {
      "text/plain": [
       "[<matplotlib.lines.Line2D at 0x7fc9d5749fc0>]"
      ]
     },
     "execution_count": 6,
     "metadata": {},
     "output_type": "execute_result"
    },
    {
     "data": {
      "image/png": "[encoded data removed]",
      "text/plain": [
       "<Figure size 432x288 with 1 Axes>"
      ]
     },
     "metadata": {
      "needs_background": "light"
     },
     "output_type": "display_data"
    }
   ],
   "source": [
    "plt.plot(matrica_vremena[:, 1])"
   ]
  },
  {
   "cell_type": "code",
   "execution_count": null,
   "id": "8ddf4dea",
   "metadata": {},
   "outputs": [],
   "source": [
    "for y in range(matrica.shape[0]):\n",
    "    for x in range(matrica.shape[1]):\n",
    "        matrica[y, x]"
   ]
  },
  {
   "cell_type": "code",
   "execution_count": 7,
   "id": "e65fb910",
   "metadata": {},
   "outputs": [
    {
     "data": {
      "text/plain": [
       "nan"
      ]
     },
     "execution_count": 7,
     "metadata": {},
     "output_type": "execute_result"
    }
   ],
   "source": [
    "np.max(matrica_vremena)"
   ]
  },
  {
   "cell_type": "code",
   "execution_count": 292,
   "id": "6a3fc62f",
   "metadata": {},
   "outputs": [],
   "source": [
    "ro, w = 1, 0\n",
    "X, T = 0, 0\n",
    "X1, T1 = 0, 0\n",
    "v = 0.9"
   ]
  },
  {
   "cell_type": "code",
   "execution_count": 293,
   "id": "f0cf2cfa",
   "metadata": {},
   "outputs": [],
   "source": [
    "dw = 0.0001\n",
    "dt = 0\n"
   ]
  },
  {
   "cell_type": "code",
   "execution_count": 2,
   "id": "cacbaf43",
   "metadata": {},
   "outputs": [],
   "source": [
    "def BH(ro, v):\n",
    "    w = 0\n",
    "    X, T = 0, 0\n",
    "    T1 = 0, 0\n",
    "\n",
    "    dw = 0.0001\n",
    "    dt = 0\n",
    "\n",
    "    Xm = []\n",
    "    wm = []\n",
    "    Tm = []\n",
    "    rom = []\n",
    "    X = ro * np.cosh(w)\n",
    "    for i in range(50000):\n",
    "        w += dw\n",
    "        dt = ro * np.sinh(w) - T\n",
    "        T += dt\n",
    "        X += dt * v\n",
    "\n",
    "        w = np.arctanh(T / X)\n",
    "\n",
    "        ro = X / np.cosh(w)\n",
    "        Xm.append(X)\n",
    "        wm.append(w)\n",
    "        Tm.append(T)\n",
    "        rom.append(ro)\n",
    "    return(wm, rom)"
   ]
  },
  {
   "cell_type": "code",
   "execution_count": 219,
   "id": "55273e1a",
   "metadata": {},
   "outputs": [],
   "source": [
    "ro, w =5, 0\n",
    "r, T = 0, 0\n",
    "T1 = 0, 0\n",
    "vr = 0\n",
    "vN = 100\n",
    "theta = 0\n",
    "dw = 0.00001\n",
    "\n",
    "theta = 0\n",
    "dttheta = 0.01\n",
    "\n",
    "rm = []\n",
    "wm = []\n",
    "Tm = []\n",
    "rom = []\n",
    "thetam = []\n",
    "r = ro * np.cosh(w)\n",
    "for i in range(99999):\n",
    "    w += dw\n",
    "    dt = ro * np.sinh(w) - T\n",
    "    T += dt\n",
    "    r += dt * vr\n",
    "    vTheta = vN / ro\n",
    "    theta += vTheta * dw\n",
    "    theta %= 2 * 3.141\n",
    "    w = np.arctanh(T / r)\n",
    "\n",
    "    ro = r / np.cosh(w)\n",
    "    rm.append(r)\n",
    "    wm.append(w)\n",
    "    Tm.append(T)\n",
    "    rom.append(ro)\n",
    "    thetam.append(theta)\n"
   ]
  },
  {
   "cell_type": "code",
   "execution_count": 3,
   "id": "62c76bcf",
   "metadata": {},
   "outputs": [
    {
     "name": "stderr",
     "output_type": "stream",
     "text": [
      "/tmp/ipykernel_768123/956060646.py:20: RuntimeWarning: invalid value encountered in arctanh\n",
      "  w = np.arctanh(T / X)\n"
     ]
    }
   ],
   "source": [
    "wm, rom = BH(100, 0.9)"
   ]
  },
  {
   "cell_type": "code",
   "execution_count": 4,
   "id": "18f6de1b",
   "metadata": {},
   "outputs": [
    {
     "data": {
      "text/plain": [
       "[<matplotlib.lines.Line2D at 0x7f0caab821d0>]"
      ]
     },
     "execution_count": 4,
     "metadata": {},
     "output_type": "execute_result"
    },
    {
     "data": {
      "image/png": "[encoded data removed]",
      "text/plain": [
       "<Figure size 432x288 with 1 Axes>"
      ]
     },
     "metadata": {
      "needs_background": "light"
     },
     "output_type": "display_data"
    }
   ],
   "source": [
    "plt.plot(wm, rom)\n",
    "\n",
    "#plt.plot(wm, np.divide(rom, 10))\n",
    "#plt.plot(wm1, rom1)\n",
    "#plt.plot(wm, 1.033-0.5*np.square(np.subtract(wm, 0.25)))"
   ]
  },
  {
   "cell_type": "code",
   "execution_count": 214,
   "id": "41bbbb28",
   "metadata": {},
   "outputs": [
    {
     "data": {
      "text/plain": [
       "0.01936494970536773"
      ]
     },
     "execution_count": 214,
     "metadata": {},
     "output_type": "execute_result"
    }
   ],
   "source": [
    "ro"
   ]
  },
  {
   "cell_type": "code",
   "execution_count": 150,
   "id": "4c8c2d3b",
   "metadata": {},
   "outputs": [
    {
     "data": {
      "text/plain": [
       "5.0"
      ]
     },
     "execution_count": 150,
     "metadata": {},
     "output_type": "execute_result"
    }
   ],
   "source": [
    "w += dw\n",
    "dt = ro * np.sinh(w) - T\n",
    "T += dt\n",
    "r += dt * vr\n",
    "vTheta = vN / ro\n",
    "theta += vTheta * dw\n",
    "theta %= 2 * 3.141\n",
    "w = np.arctanh(r / T)\n",
    "\n",
    "ro = r / np.cosh(w)\n",
    "rm.append(r)\n",
    "wm.append(w)\n",
    "Tm.append(T)\n",
    "rom.append(ro)\n",
    "thetaM.append(theta)"
   ]
  },
  {
   "cell_type": "code",
   "execution_count": 171,
   "id": "61e58745",
   "metadata": {},
   "outputs": [
    {
     "name": "stderr",
     "output_type": "stream",
     "text": [
      "/tmp/ipykernel_653272/2997622206.py:1: RuntimeWarning: invalid value encountered in arctanh\n",
      "  w = np.arctanh(T / r)\n"
     ]
    }
   ],
   "source": [
    "w = np.arctanh(T / r)\n"
   ]
  },
  {
   "cell_type": "code",
   "execution_count": 178,
   "id": "cc33b5eb",
   "metadata": {},
   "outputs": [
    {
     "data": {
      "text/plain": [
       "0.19368271207354298"
      ]
     },
     "execution_count": 178,
     "metadata": {},
     "output_type": "execute_result"
    }
   ],
   "source": [
    "ro"
   ]
  },
  {
   "cell_type": "code",
   "execution_count": 177,
   "id": "e510f945",
   "metadata": {},
   "outputs": [
    {
     "data": {
      "text/plain": [
       "5.0"
      ]
     },
     "execution_count": 177,
     "metadata": {},
     "output_type": "execute_result"
    }
   ],
   "source": [
    "r"
   ]
  },
  {
   "cell_type": "code",
   "execution_count": 96,
   "id": "f35dfb47",
   "metadata": {},
   "outputs": [
    {
     "data": {
      "text/plain": [
       "[<matplotlib.lines.Line2D at 0x7fc9cf9aa6e0>]"
      ]
     },
     "execution_count": 96,
     "metadata": {},
     "output_type": "execute_result"
    },
    {
     "data": {
      "image/png": "[encoded data removed]",
      "text/plain": [
       "<Figure size 432x288 with 1 Axes>"
      ]
     },
     "metadata": {
      "needs_background": "light"
     },
     "output_type": "display_data"
    }
   ],
   "source": [
    "plt.plot(wm, rom)\n"
   ]
  },
  {
   "cell_type": "code",
   "execution_count": 147,
   "id": "b1c38d8b",
   "metadata": {},
   "outputs": [
    {
     "data": {
      "text/plain": [
       "nan"
      ]
     },
     "execution_count": 147,
     "metadata": {},
     "output_type": "execute_result"
    }
   ],
   "source": [
    "rom[999]"
   ]
  },
  {
   "cell_type": "code",
   "execution_count": 314,
   "id": "a67e02e9",
   "metadata": {},
   "outputs": [
    {
     "data": {
      "image/png": "[encoded data removed]",
      "text/plain": [
       "<Figure size 432x288 with 1 Axes>"
      ]
     },
     "metadata": {
      "needs_background": "light"
     },
     "output_type": "display_data"
    }
   ],
   "source": [
    "import numpy as np\n",
    "import matplotlib.pyplot as plt\n",
    "from matplotlib.animation import FuncAnimation\n",
    "\n",
    "# Create a figure and axis\n",
    "fig, ax = plt.subplots()\n",
    "x_data = np.linspace(0, 2 * np.pi, 100)\n",
    "line, = ax.plot(x_data, np.sin(x_data))\n",
    "\n",
    "def animate(frame):\n",
    "    line.set_ydata(np.sin(x_data + frame * 0.1))\n",
    "    return line,\n",
    "\n",
    "# Create animation\n",
    "ani = FuncAnimation(fig, animate, frames=500, interval=100)\n",
    "plt.show()\n"
   ]
  },
  {
   "cell_type": "code",
   "execution_count": null,
   "id": "56409d7b",
   "metadata": {},
   "outputs": [],
   "source": []
  }
 ],
 "metadata": {
  "kernelspec": {
   "display_name": "Python 3 (ipykernel)",
   "language": "python",
   "name": "python3"
  },
  "language_info": {
   "codemirror_mode": {
    "name": "ipython",
    "version": 3
   },
   "file_extension": ".py",
   "mimetype": "text/x-python",
   "name": "python",
   "nbconvert_exporter": "python",
   "pygments_lexer": "ipython3",
   "version": "3.10.10"
  }
 },
 "nbformat": 4,
 "nbformat_minor": 5
}
